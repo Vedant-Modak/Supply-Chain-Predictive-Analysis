{
 "cells": [
  {
   "cell_type": "markdown",
   "metadata": {},
   "source": [
    "**Vedant Modak**\n",
    "  | BE(IT) undergrad @ PES Modern College of Engineering,Pune."
   ]
  },
  {
   "cell_type": "markdown",
   "metadata": {},
   "source": [
    "**Supply Chain Analysis**"
   ]
  },
  {
   "cell_type": "markdown",
   "metadata": {},
   "source": [
    "**Importing necessary libraries**"
   ]
  },
  {
   "cell_type": "code",
   "execution_count": 24,
   "metadata": {},
   "outputs": [],
   "source": [
    "import pandas as pd\n",
    "import numpy as np\n",
    "import matplotlib.pyplot as plt\n",
    "import seaborn as sns"
   ]
  },
  {
   "cell_type": "code",
   "execution_count": 25,
   "metadata": {},
   "outputs": [],
   "source": [
    "df=pd.read_csv('F:\\Data Analytics\\Portfolio\\Projects\\Project - 4 (Supply Chain)\\Port_data.csv')"
   ]
  },
  {
   "cell_type": "code",
   "execution_count": 26,
   "metadata": {},
   "outputs": [
    {
     "data": {
      "text/html": [
       "<div>\n",
       "<style scoped>\n",
       "    .dataframe tbody tr th:only-of-type {\n",
       "        vertical-align: middle;\n",
       "    }\n",
       "\n",
       "    .dataframe tbody tr th {\n",
       "        vertical-align: top;\n",
       "    }\n",
       "\n",
       "    .dataframe thead th {\n",
       "        text-align: right;\n",
       "    }\n",
       "</style>\n",
       "<table border=\"1\" class=\"dataframe\">\n",
       "  <thead>\n",
       "    <tr style=\"text-align: right;\">\n",
       "      <th></th>\n",
       "      <th>Unnamed: 0</th>\n",
       "      <th>Country</th>\n",
       "      <th>Port Name</th>\n",
       "      <th>UN Code</th>\n",
       "      <th>Vessels in Port</th>\n",
       "      <th>Departures(Last 24 Hours)</th>\n",
       "      <th>Arrivals(Last 24 Hours)</th>\n",
       "      <th>Expected Arrivals</th>\n",
       "      <th>Type</th>\n",
       "      <th>Area Local</th>\n",
       "      <th>Area Global</th>\n",
       "      <th>Also known as</th>\n",
       "    </tr>\n",
       "  </thead>\n",
       "  <tbody>\n",
       "    <tr>\n",
       "      <th>0</th>\n",
       "      <td>0</td>\n",
       "      <td>China</td>\n",
       "      <td>SHANGHAI</td>\n",
       "      <td>CNSHG</td>\n",
       "      <td>2420</td>\n",
       "      <td>1376</td>\n",
       "      <td>1626</td>\n",
       "      <td>644</td>\n",
       "      <td>Port</td>\n",
       "      <td>East China Sea</td>\n",
       "      <td>Central China</td>\n",
       "      <td>['SHANG HAI', ' YANGSHAN', ' CNSHA', ' CNSGH']</td>\n",
       "    </tr>\n",
       "    <tr>\n",
       "      <th>1</th>\n",
       "      <td>1</td>\n",
       "      <td>China</td>\n",
       "      <td>NANTONG</td>\n",
       "      <td>CNNTG</td>\n",
       "      <td>1572</td>\n",
       "      <td>1173</td>\n",
       "      <td>1287</td>\n",
       "      <td>234</td>\n",
       "      <td>Port</td>\n",
       "      <td>East China Sea</td>\n",
       "      <td>Central China</td>\n",
       "      <td>['NAN TONG']</td>\n",
       "    </tr>\n",
       "    <tr>\n",
       "      <th>2</th>\n",
       "      <td>2</td>\n",
       "      <td>China</td>\n",
       "      <td>CJK</td>\n",
       "      <td>CNCJK</td>\n",
       "      <td>1529</td>\n",
       "      <td>343</td>\n",
       "      <td>370</td>\n",
       "      <td>310</td>\n",
       "      <td>Anchorage</td>\n",
       "      <td>East China Sea</td>\n",
       "      <td>Central China</td>\n",
       "      <td>['CHANGJIANGKOU', ' CHANGJIANG KOU', ' CJK CN']</td>\n",
       "    </tr>\n",
       "    <tr>\n",
       "      <th>3</th>\n",
       "      <td>3</td>\n",
       "      <td>China</td>\n",
       "      <td>NANJING</td>\n",
       "      <td>CNNKG</td>\n",
       "      <td>1414</td>\n",
       "      <td>667</td>\n",
       "      <td>1060</td>\n",
       "      <td>203</td>\n",
       "      <td>Port</td>\n",
       "      <td>East China Sea</td>\n",
       "      <td>Central China</td>\n",
       "      <td>['NAN JING', ' NAN JIN', ' NANJIN']</td>\n",
       "    </tr>\n",
       "    <tr>\n",
       "      <th>4</th>\n",
       "      <td>4</td>\n",
       "      <td>China</td>\n",
       "      <td>JIANGYIN</td>\n",
       "      <td>CNJIA</td>\n",
       "      <td>1112</td>\n",
       "      <td>1076</td>\n",
       "      <td>1070</td>\n",
       "      <td>166</td>\n",
       "      <td>Port</td>\n",
       "      <td>East China Sea</td>\n",
       "      <td>Central China</td>\n",
       "      <td>['-', ' JANG JIN', ' JIANG YIN']</td>\n",
       "    </tr>\n",
       "  </tbody>\n",
       "</table>\n",
       "</div>"
      ],
      "text/plain": [
       "   Unnamed: 0 Country Port Name UN Code  Vessels in Port  \\\n",
       "0           0   China  SHANGHAI   CNSHG             2420   \n",
       "1           1   China   NANTONG   CNNTG             1572   \n",
       "2           2   China       CJK   CNCJK             1529   \n",
       "3           3   China   NANJING   CNNKG             1414   \n",
       "4           4   China  JIANGYIN   CNJIA             1112   \n",
       "\n",
       "   Departures(Last 24 Hours)  Arrivals(Last 24 Hours)  Expected Arrivals  \\\n",
       "0                       1376                     1626                644   \n",
       "1                       1173                     1287                234   \n",
       "2                        343                      370                310   \n",
       "3                        667                     1060                203   \n",
       "4                       1076                     1070                166   \n",
       "\n",
       "        Type      Area Local    Area Global  \\\n",
       "0       Port  East China Sea  Central China   \n",
       "1       Port  East China Sea  Central China   \n",
       "2  Anchorage  East China Sea  Central China   \n",
       "3       Port  East China Sea  Central China   \n",
       "4       Port  East China Sea  Central China   \n",
       "\n",
       "                                     Also known as  \n",
       "0   ['SHANG HAI', ' YANGSHAN', ' CNSHA', ' CNSGH']  \n",
       "1                                     ['NAN TONG']  \n",
       "2  ['CHANGJIANGKOU', ' CHANGJIANG KOU', ' CJK CN']  \n",
       "3              ['NAN JING', ' NAN JIN', ' NANJIN']  \n",
       "4                 ['-', ' JANG JIN', ' JIANG YIN']  "
      ]
     },
     "execution_count": 26,
     "metadata": {},
     "output_type": "execute_result"
    }
   ],
   "source": [
    "df.head()"
   ]
  },
  {
   "cell_type": "code",
   "execution_count": 27,
   "metadata": {},
   "outputs": [
    {
     "data": {
      "text/html": [
       "<div>\n",
       "<style scoped>\n",
       "    .dataframe tbody tr th:only-of-type {\n",
       "        vertical-align: middle;\n",
       "    }\n",
       "\n",
       "    .dataframe tbody tr th {\n",
       "        vertical-align: top;\n",
       "    }\n",
       "\n",
       "    .dataframe thead th {\n",
       "        text-align: right;\n",
       "    }\n",
       "</style>\n",
       "<table border=\"1\" class=\"dataframe\">\n",
       "  <thead>\n",
       "    <tr style=\"text-align: right;\">\n",
       "      <th></th>\n",
       "      <th>Unnamed: 0</th>\n",
       "      <th>Country</th>\n",
       "      <th>Port Name</th>\n",
       "      <th>UN Code</th>\n",
       "      <th>Vessels in Port</th>\n",
       "      <th>Departures(Last 24 Hours)</th>\n",
       "      <th>Arrivals(Last 24 Hours)</th>\n",
       "      <th>Expected Arrivals</th>\n",
       "      <th>Type</th>\n",
       "      <th>Area Local</th>\n",
       "      <th>Area Global</th>\n",
       "      <th>Also known as</th>\n",
       "    </tr>\n",
       "  </thead>\n",
       "  <tbody>\n",
       "    <tr>\n",
       "      <th>475</th>\n",
       "      <td>475</td>\n",
       "      <td>Korea</td>\n",
       "      <td>ONSAN</td>\n",
       "      <td>KRONS</td>\n",
       "      <td>51</td>\n",
       "      <td>121</td>\n",
       "      <td>121</td>\n",
       "      <td>26</td>\n",
       "      <td>Port</td>\n",
       "      <td>North China</td>\n",
       "      <td>North China</td>\n",
       "      <td>['KR USN']</td>\n",
       "    </tr>\n",
       "    <tr>\n",
       "      <th>476</th>\n",
       "      <td>476</td>\n",
       "      <td>China</td>\n",
       "      <td>PENGLAI</td>\n",
       "      <td>CNPLI</td>\n",
       "      <td>51</td>\n",
       "      <td>63</td>\n",
       "      <td>61</td>\n",
       "      <td>22</td>\n",
       "      <td>Port</td>\n",
       "      <td>Bohai Sea</td>\n",
       "      <td>North China</td>\n",
       "      <td>['PENG LAI', ' CNPLA']</td>\n",
       "    </tr>\n",
       "    <tr>\n",
       "      <th>477</th>\n",
       "      <td>477</td>\n",
       "      <td>USA</td>\n",
       "      <td>PORT EVERGLADES</td>\n",
       "      <td>USPEF</td>\n",
       "      <td>51</td>\n",
       "      <td>23</td>\n",
       "      <td>21</td>\n",
       "      <td>22</td>\n",
       "      <td>Port</td>\n",
       "      <td>US East Coast</td>\n",
       "      <td>US East Coast</td>\n",
       "      <td>['-']</td>\n",
       "    </tr>\n",
       "    <tr>\n",
       "      <th>478</th>\n",
       "      <td>478</td>\n",
       "      <td>India</td>\n",
       "      <td>KAKINADA</td>\n",
       "      <td>INKAK</td>\n",
       "      <td>51</td>\n",
       "      <td>8</td>\n",
       "      <td>10</td>\n",
       "      <td>21</td>\n",
       "      <td>Port</td>\n",
       "      <td>Bengal Bay</td>\n",
       "      <td>East Coast India</td>\n",
       "      <td>['-']</td>\n",
       "    </tr>\n",
       "    <tr>\n",
       "      <th>479</th>\n",
       "      <td>479</td>\n",
       "      <td>Japan</td>\n",
       "      <td>NAHA</td>\n",
       "      <td>JPNAH</td>\n",
       "      <td>51</td>\n",
       "      <td>33</td>\n",
       "      <td>42</td>\n",
       "      <td>15</td>\n",
       "      <td>Port</td>\n",
       "      <td>East China Sea</td>\n",
       "      <td>Japan Coast</td>\n",
       "      <td>['-']</td>\n",
       "    </tr>\n",
       "  </tbody>\n",
       "</table>\n",
       "</div>"
      ],
      "text/plain": [
       "     Unnamed: 0 Country        Port Name UN Code  Vessels in Port  \\\n",
       "475         475   Korea            ONSAN   KRONS               51   \n",
       "476         476   China          PENGLAI   CNPLI               51   \n",
       "477         477     USA  PORT EVERGLADES   USPEF               51   \n",
       "478         478   India         KAKINADA   INKAK               51   \n",
       "479         479   Japan             NAHA   JPNAH               51   \n",
       "\n",
       "     Departures(Last 24 Hours)  Arrivals(Last 24 Hours)  Expected Arrivals  \\\n",
       "475                        121                      121                 26   \n",
       "476                         63                       61                 22   \n",
       "477                         23                       21                 22   \n",
       "478                          8                       10                 21   \n",
       "479                         33                       42                 15   \n",
       "\n",
       "     Type      Area Local       Area Global           Also known as  \n",
       "475  Port     North China       North China              ['KR USN']  \n",
       "476  Port       Bohai Sea       North China  ['PENG LAI', ' CNPLA']  \n",
       "477  Port   US East Coast     US East Coast                   ['-']  \n",
       "478  Port      Bengal Bay  East Coast India                   ['-']  \n",
       "479  Port  East China Sea       Japan Coast                   ['-']  "
      ]
     },
     "execution_count": 27,
     "metadata": {},
     "output_type": "execute_result"
    }
   ],
   "source": [
    "df.tail()"
   ]
  },
  {
   "cell_type": "code",
   "execution_count": 28,
   "metadata": {},
   "outputs": [
    {
     "data": {
      "text/plain": [
       "(480, 12)"
      ]
     },
     "execution_count": 28,
     "metadata": {},
     "output_type": "execute_result"
    }
   ],
   "source": [
    "df.shape"
   ]
  },
  {
   "cell_type": "code",
   "execution_count": 29,
   "metadata": {},
   "outputs": [
    {
     "name": "stdout",
     "output_type": "stream",
     "text": [
      "<class 'pandas.core.frame.DataFrame'>\n",
      "RangeIndex: 480 entries, 0 to 479\n",
      "Data columns (total 12 columns):\n",
      " #   Column                     Non-Null Count  Dtype \n",
      "---  ------                     --------------  ----- \n",
      " 0   Unnamed: 0                 480 non-null    int64 \n",
      " 1   Country                    480 non-null    object\n",
      " 2   Port Name                  480 non-null    object\n",
      " 3   UN Code                    468 non-null    object\n",
      " 4   Vessels in Port            480 non-null    int64 \n",
      " 5   Departures(Last 24 Hours)  480 non-null    int64 \n",
      " 6   Arrivals(Last 24 Hours)    480 non-null    int64 \n",
      " 7   Expected Arrivals          480 non-null    int64 \n",
      " 8   Type                       480 non-null    object\n",
      " 9   Area Local                 480 non-null    object\n",
      " 10  Area Global                480 non-null    object\n",
      " 11  Also known as              480 non-null    object\n",
      "dtypes: int64(5), object(7)\n",
      "memory usage: 45.1+ KB\n"
     ]
    }
   ],
   "source": [
    "df.info()"
   ]
  },
  {
   "cell_type": "markdown",
   "metadata": {},
   "source": [
    "**Cleaning the datatset**"
   ]
  },
  {
   "cell_type": "code",
   "execution_count": 30,
   "metadata": {},
   "outputs": [],
   "source": [
    "df = df.drop_duplicates()"
   ]
  },
  {
   "cell_type": "code",
   "execution_count": 31,
   "metadata": {},
   "outputs": [
    {
     "data": {
      "text/plain": [
       "Unnamed: 0                    0\n",
       "Country                       0\n",
       "Port Name                     0\n",
       "UN Code                      12\n",
       "Vessels in Port               0\n",
       "Departures(Last 24 Hours)     0\n",
       "Arrivals(Last 24 Hours)       0\n",
       "Expected Arrivals             0\n",
       "Type                          0\n",
       "Area Local                    0\n",
       "Area Global                   0\n",
       "Also known as                 0\n",
       "dtype: int64"
      ]
     },
     "execution_count": 31,
     "metadata": {},
     "output_type": "execute_result"
    }
   ],
   "source": [
    "df.isnull().sum()"
   ]
  },
  {
   "cell_type": "code",
   "execution_count": 32,
   "metadata": {
    "scrolled": true
   },
   "outputs": [
    {
     "data": {
      "text/html": [
       "<div>\n",
       "<style scoped>\n",
       "    .dataframe tbody tr th:only-of-type {\n",
       "        vertical-align: middle;\n",
       "    }\n",
       "\n",
       "    .dataframe tbody tr th {\n",
       "        vertical-align: top;\n",
       "    }\n",
       "\n",
       "    .dataframe thead th {\n",
       "        text-align: right;\n",
       "    }\n",
       "</style>\n",
       "<table border=\"1\" class=\"dataframe\">\n",
       "  <thead>\n",
       "    <tr style=\"text-align: right;\">\n",
       "      <th></th>\n",
       "      <th>Unnamed: 0</th>\n",
       "      <th>Vessels in Port</th>\n",
       "      <th>Departures(Last 24 Hours)</th>\n",
       "      <th>Arrivals(Last 24 Hours)</th>\n",
       "      <th>Expected Arrivals</th>\n",
       "    </tr>\n",
       "  </thead>\n",
       "  <tbody>\n",
       "    <tr>\n",
       "      <th>count</th>\n",
       "      <td>480.000000</td>\n",
       "      <td>480.000000</td>\n",
       "      <td>480.000000</td>\n",
       "      <td>480.000000</td>\n",
       "      <td>480.000000</td>\n",
       "    </tr>\n",
       "    <tr>\n",
       "      <th>mean</th>\n",
       "      <td>239.500000</td>\n",
       "      <td>153.312500</td>\n",
       "      <td>98.981250</td>\n",
       "      <td>108.662500</td>\n",
       "      <td>39.233333</td>\n",
       "    </tr>\n",
       "    <tr>\n",
       "      <th>std</th>\n",
       "      <td>138.708327</td>\n",
       "      <td>217.297037</td>\n",
       "      <td>170.504574</td>\n",
       "      <td>185.357564</td>\n",
       "      <td>82.385289</td>\n",
       "    </tr>\n",
       "    <tr>\n",
       "      <th>min</th>\n",
       "      <td>0.000000</td>\n",
       "      <td>51.000000</td>\n",
       "      <td>0.000000</td>\n",
       "      <td>1.000000</td>\n",
       "      <td>0.000000</td>\n",
       "    </tr>\n",
       "    <tr>\n",
       "      <th>25%</th>\n",
       "      <td>119.750000</td>\n",
       "      <td>63.000000</td>\n",
       "      <td>26.750000</td>\n",
       "      <td>30.000000</td>\n",
       "      <td>3.000000</td>\n",
       "    </tr>\n",
       "    <tr>\n",
       "      <th>50%</th>\n",
       "      <td>239.500000</td>\n",
       "      <td>86.000000</td>\n",
       "      <td>48.000000</td>\n",
       "      <td>56.000000</td>\n",
       "      <td>16.000000</td>\n",
       "    </tr>\n",
       "    <tr>\n",
       "      <th>75%</th>\n",
       "      <td>359.250000</td>\n",
       "      <td>144.000000</td>\n",
       "      <td>102.000000</td>\n",
       "      <td>106.250000</td>\n",
       "      <td>40.250000</td>\n",
       "    </tr>\n",
       "    <tr>\n",
       "      <th>max</th>\n",
       "      <td>479.000000</td>\n",
       "      <td>2420.000000</td>\n",
       "      <td>1682.000000</td>\n",
       "      <td>1748.000000</td>\n",
       "      <td>1205.000000</td>\n",
       "    </tr>\n",
       "  </tbody>\n",
       "</table>\n",
       "</div>"
      ],
      "text/plain": [
       "       Unnamed: 0  Vessels in Port  Departures(Last 24 Hours)  \\\n",
       "count  480.000000       480.000000                 480.000000   \n",
       "mean   239.500000       153.312500                  98.981250   \n",
       "std    138.708327       217.297037                 170.504574   \n",
       "min      0.000000        51.000000                   0.000000   \n",
       "25%    119.750000        63.000000                  26.750000   \n",
       "50%    239.500000        86.000000                  48.000000   \n",
       "75%    359.250000       144.000000                 102.000000   \n",
       "max    479.000000      2420.000000                1682.000000   \n",
       "\n",
       "       Arrivals(Last 24 Hours)  Expected Arrivals  \n",
       "count               480.000000         480.000000  \n",
       "mean                108.662500          39.233333  \n",
       "std                 185.357564          82.385289  \n",
       "min                   1.000000           0.000000  \n",
       "25%                  30.000000           3.000000  \n",
       "50%                  56.000000          16.000000  \n",
       "75%                 106.250000          40.250000  \n",
       "max                1748.000000        1205.000000  "
      ]
     },
     "execution_count": 32,
     "metadata": {},
     "output_type": "execute_result"
    }
   ],
   "source": [
    "df.describe()"
   ]
  },
  {
   "cell_type": "code",
   "execution_count": 33,
   "metadata": {},
   "outputs": [],
   "source": [
    "df['UN Code'] = df['UN Code']. replace(np. nan, 0)"
   ]
  },
  {
   "cell_type": "code",
   "execution_count": 34,
   "metadata": {},
   "outputs": [
    {
     "data": {
      "text/html": [
       "<div>\n",
       "<style scoped>\n",
       "    .dataframe tbody tr th:only-of-type {\n",
       "        vertical-align: middle;\n",
       "    }\n",
       "\n",
       "    .dataframe tbody tr th {\n",
       "        vertical-align: top;\n",
       "    }\n",
       "\n",
       "    .dataframe thead th {\n",
       "        text-align: right;\n",
       "    }\n",
       "</style>\n",
       "<table border=\"1\" class=\"dataframe\">\n",
       "  <thead>\n",
       "    <tr style=\"text-align: right;\">\n",
       "      <th></th>\n",
       "      <th>Unnamed: 0</th>\n",
       "      <th>Country</th>\n",
       "      <th>Port Name</th>\n",
       "      <th>UN Code</th>\n",
       "      <th>Vessels in Port</th>\n",
       "      <th>Departures(Last 24 Hours)</th>\n",
       "      <th>Arrivals(Last 24 Hours)</th>\n",
       "      <th>Expected Arrivals</th>\n",
       "      <th>Type</th>\n",
       "      <th>Area Local</th>\n",
       "      <th>Area Global</th>\n",
       "      <th>Also known as</th>\n",
       "    </tr>\n",
       "  </thead>\n",
       "  <tbody>\n",
       "    <tr>\n",
       "      <th>0</th>\n",
       "      <td>0</td>\n",
       "      <td>China</td>\n",
       "      <td>SHANGHAI</td>\n",
       "      <td>CNSHG</td>\n",
       "      <td>2420</td>\n",
       "      <td>1376</td>\n",
       "      <td>1626</td>\n",
       "      <td>644</td>\n",
       "      <td>Port</td>\n",
       "      <td>East China Sea</td>\n",
       "      <td>Central China</td>\n",
       "      <td>['SHANG HAI', ' YANGSHAN', ' CNSHA', ' CNSGH']</td>\n",
       "    </tr>\n",
       "    <tr>\n",
       "      <th>1</th>\n",
       "      <td>1</td>\n",
       "      <td>China</td>\n",
       "      <td>NANTONG</td>\n",
       "      <td>CNNTG</td>\n",
       "      <td>1572</td>\n",
       "      <td>1173</td>\n",
       "      <td>1287</td>\n",
       "      <td>234</td>\n",
       "      <td>Port</td>\n",
       "      <td>East China Sea</td>\n",
       "      <td>Central China</td>\n",
       "      <td>['NAN TONG']</td>\n",
       "    </tr>\n",
       "    <tr>\n",
       "      <th>2</th>\n",
       "      <td>2</td>\n",
       "      <td>China</td>\n",
       "      <td>CJK</td>\n",
       "      <td>CNCJK</td>\n",
       "      <td>1529</td>\n",
       "      <td>343</td>\n",
       "      <td>370</td>\n",
       "      <td>310</td>\n",
       "      <td>Anchorage</td>\n",
       "      <td>East China Sea</td>\n",
       "      <td>Central China</td>\n",
       "      <td>['CHANGJIANGKOU', ' CHANGJIANG KOU', ' CJK CN']</td>\n",
       "    </tr>\n",
       "    <tr>\n",
       "      <th>3</th>\n",
       "      <td>3</td>\n",
       "      <td>China</td>\n",
       "      <td>NANJING</td>\n",
       "      <td>CNNKG</td>\n",
       "      <td>1414</td>\n",
       "      <td>667</td>\n",
       "      <td>1060</td>\n",
       "      <td>203</td>\n",
       "      <td>Port</td>\n",
       "      <td>East China Sea</td>\n",
       "      <td>Central China</td>\n",
       "      <td>['NAN JING', ' NAN JIN', ' NANJIN']</td>\n",
       "    </tr>\n",
       "    <tr>\n",
       "      <th>4</th>\n",
       "      <td>4</td>\n",
       "      <td>China</td>\n",
       "      <td>JIANGYIN</td>\n",
       "      <td>CNJIA</td>\n",
       "      <td>1112</td>\n",
       "      <td>1076</td>\n",
       "      <td>1070</td>\n",
       "      <td>166</td>\n",
       "      <td>Port</td>\n",
       "      <td>East China Sea</td>\n",
       "      <td>Central China</td>\n",
       "      <td>['-', ' JANG JIN', ' JIANG YIN']</td>\n",
       "    </tr>\n",
       "    <tr>\n",
       "      <th>...</th>\n",
       "      <td>...</td>\n",
       "      <td>...</td>\n",
       "      <td>...</td>\n",
       "      <td>...</td>\n",
       "      <td>...</td>\n",
       "      <td>...</td>\n",
       "      <td>...</td>\n",
       "      <td>...</td>\n",
       "      <td>...</td>\n",
       "      <td>...</td>\n",
       "      <td>...</td>\n",
       "      <td>...</td>\n",
       "    </tr>\n",
       "    <tr>\n",
       "      <th>475</th>\n",
       "      <td>475</td>\n",
       "      <td>Korea</td>\n",
       "      <td>ONSAN</td>\n",
       "      <td>KRONS</td>\n",
       "      <td>51</td>\n",
       "      <td>121</td>\n",
       "      <td>121</td>\n",
       "      <td>26</td>\n",
       "      <td>Port</td>\n",
       "      <td>North China</td>\n",
       "      <td>North China</td>\n",
       "      <td>['KR USN']</td>\n",
       "    </tr>\n",
       "    <tr>\n",
       "      <th>476</th>\n",
       "      <td>476</td>\n",
       "      <td>China</td>\n",
       "      <td>PENGLAI</td>\n",
       "      <td>CNPLI</td>\n",
       "      <td>51</td>\n",
       "      <td>63</td>\n",
       "      <td>61</td>\n",
       "      <td>22</td>\n",
       "      <td>Port</td>\n",
       "      <td>Bohai Sea</td>\n",
       "      <td>North China</td>\n",
       "      <td>['PENG LAI', ' CNPLA']</td>\n",
       "    </tr>\n",
       "    <tr>\n",
       "      <th>477</th>\n",
       "      <td>477</td>\n",
       "      <td>USA</td>\n",
       "      <td>PORT EVERGLADES</td>\n",
       "      <td>USPEF</td>\n",
       "      <td>51</td>\n",
       "      <td>23</td>\n",
       "      <td>21</td>\n",
       "      <td>22</td>\n",
       "      <td>Port</td>\n",
       "      <td>US East Coast</td>\n",
       "      <td>US East Coast</td>\n",
       "      <td>['-']</td>\n",
       "    </tr>\n",
       "    <tr>\n",
       "      <th>478</th>\n",
       "      <td>478</td>\n",
       "      <td>India</td>\n",
       "      <td>KAKINADA</td>\n",
       "      <td>INKAK</td>\n",
       "      <td>51</td>\n",
       "      <td>8</td>\n",
       "      <td>10</td>\n",
       "      <td>21</td>\n",
       "      <td>Port</td>\n",
       "      <td>Bengal Bay</td>\n",
       "      <td>East Coast India</td>\n",
       "      <td>['-']</td>\n",
       "    </tr>\n",
       "    <tr>\n",
       "      <th>479</th>\n",
       "      <td>479</td>\n",
       "      <td>Japan</td>\n",
       "      <td>NAHA</td>\n",
       "      <td>JPNAH</td>\n",
       "      <td>51</td>\n",
       "      <td>33</td>\n",
       "      <td>42</td>\n",
       "      <td>15</td>\n",
       "      <td>Port</td>\n",
       "      <td>East China Sea</td>\n",
       "      <td>Japan Coast</td>\n",
       "      <td>['-']</td>\n",
       "    </tr>\n",
       "  </tbody>\n",
       "</table>\n",
       "<p>480 rows × 12 columns</p>\n",
       "</div>"
      ],
      "text/plain": [
       "     Unnamed: 0 Country        Port Name UN Code  Vessels in Port  \\\n",
       "0             0   China         SHANGHAI   CNSHG             2420   \n",
       "1             1   China          NANTONG   CNNTG             1572   \n",
       "2             2   China              CJK   CNCJK             1529   \n",
       "3             3   China          NANJING   CNNKG             1414   \n",
       "4             4   China         JIANGYIN   CNJIA             1112   \n",
       "..          ...     ...              ...     ...              ...   \n",
       "475         475   Korea            ONSAN   KRONS               51   \n",
       "476         476   China          PENGLAI   CNPLI               51   \n",
       "477         477     USA  PORT EVERGLADES   USPEF               51   \n",
       "478         478   India         KAKINADA   INKAK               51   \n",
       "479         479   Japan             NAHA   JPNAH               51   \n",
       "\n",
       "     Departures(Last 24 Hours)  Arrivals(Last 24 Hours)  Expected Arrivals  \\\n",
       "0                         1376                     1626                644   \n",
       "1                         1173                     1287                234   \n",
       "2                          343                      370                310   \n",
       "3                          667                     1060                203   \n",
       "4                         1076                     1070                166   \n",
       "..                         ...                      ...                ...   \n",
       "475                        121                      121                 26   \n",
       "476                         63                       61                 22   \n",
       "477                         23                       21                 22   \n",
       "478                          8                       10                 21   \n",
       "479                         33                       42                 15   \n",
       "\n",
       "          Type      Area Local       Area Global  \\\n",
       "0         Port  East China Sea     Central China   \n",
       "1         Port  East China Sea     Central China   \n",
       "2    Anchorage  East China Sea     Central China   \n",
       "3         Port  East China Sea     Central China   \n",
       "4         Port  East China Sea     Central China   \n",
       "..         ...             ...               ...   \n",
       "475       Port     North China       North China   \n",
       "476       Port       Bohai Sea       North China   \n",
       "477       Port   US East Coast     US East Coast   \n",
       "478       Port      Bengal Bay  East Coast India   \n",
       "479       Port  East China Sea       Japan Coast   \n",
       "\n",
       "                                       Also known as  \n",
       "0     ['SHANG HAI', ' YANGSHAN', ' CNSHA', ' CNSGH']  \n",
       "1                                       ['NAN TONG']  \n",
       "2    ['CHANGJIANGKOU', ' CHANGJIANG KOU', ' CJK CN']  \n",
       "3                ['NAN JING', ' NAN JIN', ' NANJIN']  \n",
       "4                   ['-', ' JANG JIN', ' JIANG YIN']  \n",
       "..                                               ...  \n",
       "475                                       ['KR USN']  \n",
       "476                           ['PENG LAI', ' CNPLA']  \n",
       "477                                            ['-']  \n",
       "478                                            ['-']  \n",
       "479                                            ['-']  \n",
       "\n",
       "[480 rows x 12 columns]"
      ]
     },
     "execution_count": 34,
     "metadata": {},
     "output_type": "execute_result"
    }
   ],
   "source": [
    "df.dropna()"
   ]
  },
  {
   "cell_type": "code",
   "execution_count": 35,
   "metadata": {},
   "outputs": [
    {
     "data": {
      "text/plain": [
       "Unnamed: 0                   0\n",
       "Country                      0\n",
       "Port Name                    0\n",
       "UN Code                      0\n",
       "Vessels in Port              0\n",
       "Departures(Last 24 Hours)    0\n",
       "Arrivals(Last 24 Hours)      0\n",
       "Expected Arrivals            0\n",
       "Type                         0\n",
       "Area Local                   0\n",
       "Area Global                  0\n",
       "Also known as                0\n",
       "dtype: int64"
      ]
     },
     "execution_count": 35,
     "metadata": {},
     "output_type": "execute_result"
    }
   ],
   "source": [
    "df.isnull().sum()"
   ]
  },
  {
   "cell_type": "markdown",
   "metadata": {},
   "source": [
    "**Removing Outliers**"
   ]
  },
  {
   "cell_type": "code",
   "execution_count": 36,
   "metadata": {},
   "outputs": [
    {
     "name": "stderr",
     "output_type": "stream",
     "text": [
      "C:\\Users\\admin\\anaconda3\\lib\\site-packages\\seaborn\\_decorators.py:36: FutureWarning: Pass the following variable as a keyword arg: x. From version 0.12, the only valid positional argument will be `data`, and passing other arguments without an explicit keyword will result in an error or misinterpretation.\n",
      "  warnings.warn(\n"
     ]
    },
    {
     "data": {
      "text/plain": [
       "<AxesSubplot:xlabel='Vessels in Port'>"
      ]
     },
     "execution_count": 36,
     "metadata": {},
     "output_type": "execute_result"
    },
    {
     "data": {
      "image/png": "[encoded data removed]",
      "text/plain": [
       "<Figure size 432x288 with 1 Axes>"
      ]
     },
     "metadata": {
      "needs_background": "light"
     },
     "output_type": "display_data"
    }
   ],
   "source": [
    "sns.boxplot(df['Vessels in Port'])"
   ]
  },
  {
   "cell_type": "code",
   "execution_count": 37,
   "metadata": {},
   "outputs": [
    {
     "name": "stderr",
     "output_type": "stream",
     "text": [
      "C:\\Users\\admin\\anaconda3\\lib\\site-packages\\seaborn\\_decorators.py:36: FutureWarning: Pass the following variable as a keyword arg: x. From version 0.12, the only valid positional argument will be `data`, and passing other arguments without an explicit keyword will result in an error or misinterpretation.\n",
      "  warnings.warn(\n"
     ]
    },
    {
     "data": {
      "text/plain": [
       "<AxesSubplot:xlabel='Expected Arrivals'>"
      ]
     },
     "execution_count": 37,
     "metadata": {},
     "output_type": "execute_result"
    },
    {
     "data": {
      "image/png": "[encoded data removed]",
      "text/plain": [
       "<Figure size 432x288 with 1 Axes>"
      ]
     },
     "metadata": {
      "needs_background": "light"
     },
     "output_type": "display_data"
    }
   ],
   "source": [
    "sns.boxplot(df['Expected Arrivals'])"
   ]
  },
  {
   "cell_type": "code",
   "execution_count": 38,
   "metadata": {},
   "outputs": [],
   "source": [
    "def remove_outliers(column):\n",
    "    Q1 = column.quantile(0.25)\n",
    "    Q3 = column.quantile(0.75)\n",
    "    IQR = Q3 - Q1\n",
    "    threshold = 1.5 * IQR\n",
    "    outlier_mask = (column < Q1 - threshold) | (column > Q3 + threshold)\n",
    "    return column[~outlier_mask]"
   ]
  },
  {
   "cell_type": "code",
   "execution_count": 39,
   "metadata": {},
   "outputs": [],
   "source": [
    "col_name = ['Vessels in Port', 'Expected Arrivals']\n",
    "for col in col_name:\n",
    "    df[col] = remove_outliers(df[col])"
   ]
  },
  {
   "cell_type": "code",
   "execution_count": 40,
   "metadata": {},
   "outputs": [
    {
     "data": {
      "image/png": "[encoded data removed]",
      "text/plain": [
       "<Figure size 720x432 with 1 Axes>"
      ]
     },
     "metadata": {
      "needs_background": "light"
     },
     "output_type": "display_data"
    },
    {
     "data": {
      "image/png": "[encoded data removed]",
      "text/plain": [
       "<Figure size 432x288 with 1 Axes>"
      ]
     },
     "metadata": {
      "needs_background": "light"
     },
     "output_type": "display_data"
    }
   ],
   "source": [
    "plt.figure(figsize=(10, 6)) \n",
    "\n",
    "for col in col_name:\n",
    "    sns.boxplot(data=df[col])\n",
    "    plt.title(col)\n",
    "    plt.show()"
   ]
  },
  {
   "cell_type": "markdown",
   "metadata": {},
   "source": [
    "**Visualizations**"
   ]
  },
  {
   "cell_type": "markdown",
   "metadata": {},
   "source": [
    "**Top 10 Country-wise count**"
   ]
  },
  {
   "cell_type": "code",
   "execution_count": 41,
   "metadata": {},
   "outputs": [
    {
     "name": "stdout",
     "output_type": "stream",
     "text": [
      "Top 10 Countries Wise Count \n",
      "\n",
      "China             122\n",
      "USA                45\n",
      "Netherlands        38\n",
      "United Kingdom     16\n",
      "Germany            16\n",
      "Korea              15\n",
      "Spain              13\n",
      "Australia          13\n",
      "Russia             12\n",
      "Turkey             11\n",
      "Name: Country, dtype: int64\n"
     ]
    },
    {
     "name": "stderr",
     "output_type": "stream",
     "text": [
      "C:\\Users\\admin\\anaconda3\\lib\\site-packages\\seaborn\\_decorators.py:36: FutureWarning: Pass the following variable as a keyword arg: x. From version 0.12, the only valid positional argument will be `data`, and passing other arguments without an explicit keyword will result in an error or misinterpretation.\n",
      "  warnings.warn(\n"
     ]
    },
    {
     "data": {
      "text/plain": [
       "Text(0.5, 0, 'Country Name')"
      ]
     },
     "execution_count": 41,
     "metadata": {},
     "output_type": "execute_result"
    },
    {
     "data": {
      "image/png": "[encoded data removed]",
      "text/plain": [
       "<Figure size 1584x432 with 1 Axes>"
      ]
     },
     "metadata": {
      "needs_background": "light"
     },
     "output_type": "display_data"
    }
   ],
   "source": [
    "ItemCount = df[\"Country\"].value_counts().nlargest(10)\n",
    "print(\"Top 10 Countries Wise Count \\n\")\n",
    "print(ItemCount)\n",
    "sns.set_context(\"talk\",font_scale=1)\n",
    "plt.figure(figsize=(22,6))\n",
    "sns.countplot(df['Country'],order = df['Country'].value_counts().nlargest(10).index)\n",
    "plt.title('Top 10 Countries Wise Count \\n')\n",
    "plt.ylabel('Total Count')\n",
    "plt.xlabel('Country Name')"
   ]
  },
  {
   "cell_type": "markdown",
   "metadata": {},
   "source": [
    "**Top 15 Country wise vessel count**"
   ]
  },
  {
   "cell_type": "code",
   "execution_count": 58,
   "metadata": {
    "scrolled": true
   },
   "outputs": [
    {
     "name": "stdout",
     "output_type": "stream",
     "text": [
      "Total Vessel count of Top 15 Countries\n",
      "\n",
      "Country\n",
      "China                   10754.0\n",
      "Netherlands              3656.0\n",
      "USA                      3515.0\n",
      "United Kingdom           1336.0\n",
      "Germany                  1289.0\n",
      "Russia                   1172.0\n",
      "Spain                    1154.0\n",
      "Turkey                   1091.0\n",
      "Indonesia                1042.0\n",
      "United Arab Emirates     1033.0\n",
      "Australia                1029.0\n",
      "France                    950.0\n",
      "Korea                     850.0\n",
      "Japan                     763.0\n",
      "Vietnam                   611.0\n",
      "Name: Vessels in Port, dtype: float64\n"
     ]
    },
    {
     "data": {
      "text/plain": [
       "Text(0.5, 0, 'Country Name')"
      ]
     },
     "execution_count": 58,
     "metadata": {},
     "output_type": "execute_result"
    },
    {
     "data": {
      "image/png": "[encoded data removed]",
      "text/plain": [
       "<Figure size 1584x864 with 1 Axes>"
      ]
     },
     "metadata": {
      "needs_background": "light"
     },
     "output_type": "display_data"
    }
   ],
   "source": [
    "Vessel_count = df.groupby(['Country'])['Vessels in Port'].sum().nlargest(15)\n",
    "print(\"Total Vessel count of Top 15 Countries\\n\")\n",
    "print(Vessel_count)\n",
    "plt.figure(figsize=(22,12))\n",
    "GraphData=df.groupby(['Country'])['Vessels in Port'].sum().nlargest(15)\n",
    "GraphData.plot(kind='bar')\n",
    "plt.ylabel('Vessels in Port')\n",
    "plt.xlabel('Country Name')"
   ]
  },
  {
   "cell_type": "code",
   "execution_count": 60,
   "metadata": {},
   "outputs": [
    {
     "name": "stdout",
     "output_type": "stream",
     "text": [
      "Global Area Count \n",
      "\n",
      "UK Coast & Atlantic           82\n",
      "North China                   55\n",
      "South China                   50\n",
      "Central China                 35\n",
      "Baltic Sea                    22\n",
      "West Mediterranean            22\n",
      "Arabian Gulf                  19\n",
      "US West Coast                 15\n",
      "US East Coast                 14\n",
      "East Mediterranean            14\n",
      "Indonesia                     13\n",
      "East Australia                12\n",
      "Gulf of Mexico                12\n",
      "Japan Coast                   10\n",
      "Black Sea                     10\n",
      "East Coast South America       9\n",
      "West Africa                    9\n",
      "South-East Asia                9\n",
      "Inland, Europe                 8\n",
      "Norwegian Coast                7\n",
      "West Coast India               6\n",
      "West Coast Canada              6\n",
      "West South America             4\n",
      "East Coast India               4\n",
      "Inland, China                  4\n",
      "Inland, Russia                 3\n",
      "CIS Pacific                    3\n",
      "East Coast Canada              2\n",
      "West Australia                 2\n",
      "Great Lakes                    2\n",
      "South Africa                   2\n",
      "North Coast CIS                2\n",
      "West Coast Central America     2\n",
      "North Australia                1\n",
      "Alaska                         1\n",
      "Philippines                    1\n",
      "Red Sea                        1\n",
      "East Africa                    1\n",
      "Caspian Sea                    1\n",
      "North Coast South America      1\n",
      "North Pacific                  1\n",
      "Caribbean Sea                  1\n",
      "Adriatic Sea                   1\n",
      "East Coast Central America     1\n",
      "Name: Area Global, dtype: int64\n"
     ]
    },
    {
     "name": "stderr",
     "output_type": "stream",
     "text": [
      "C:\\Users\\admin\\anaconda3\\lib\\site-packages\\seaborn\\_decorators.py:36: FutureWarning: Pass the following variable as a keyword arg: x. From version 0.12, the only valid positional argument will be `data`, and passing other arguments without an explicit keyword will result in an error or misinterpretation.\n",
      "  warnings.warn(\n"
     ]
    },
    {
     "data": {
      "text/plain": [
       "Text(0.5, 0, 'Area Name')"
      ]
     },
     "execution_count": 60,
     "metadata": {},
     "output_type": "execute_result"
    },
    {
     "data": {
      "image/png": "[encoded data removed]",
      "text/plain": [
       "<Figure size 1584x1584 with 1 Axes>"
      ]
     },
     "metadata": {
      "needs_background": "light"
     },
     "output_type": "display_data"
    }
   ],
   "source": [
    "ItemCount_2 = df[\"Area Global\"].value_counts()\n",
    "print(\"Global Area Count \\n\")\n",
    "print(ItemCount_2)\n",
    "sns.set_context(\"talk\",font_scale=1)\n",
    "plt.figure(figsize=(22,22))\n",
    "sns.countplot(df['Country'],order = df['Country'].value_counts().index)\n",
    "plt.title('Global Ara Count \\n')\n",
    "plt.ylabel('Total Count')\n",
    "plt.xlabel('Area Name')"
   ]
  }
 ],
 "metadata": {
  "kernelspec": {
   "display_name": "Python 3",
   "language": "python",
   "name": "python3"
  },
  "language_info": {
   "codemirror_mode": {
    "name": "ipython",
    "version": 3
   },
   "file_extension": ".py",
   "mimetype": "text/x-python",
   "name": "python",
   "nbconvert_exporter": "python",
   "pygments_lexer": "ipython3",
   "version": "3.8.5"
  }
 },
 "nbformat": 4,
 "nbformat_minor": 4
}
